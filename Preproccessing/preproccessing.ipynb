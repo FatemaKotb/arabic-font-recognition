{
 "cells": [
  {
   "cell_type": "code",
   "execution_count": null,
   "metadata": {},
   "outputs": [],
   "source": [
    "import sys\n",
    "import numpy as np\n",
    "from preproccessing import load_and_preprocess_images, generate_labels, save_images"
   ]
  },
  {
   "cell_type": "markdown",
   "metadata": {},
   "source": [
    "\n",
    "# Define Constants\n"
   ]
  },
  {
   "cell_type": "code",
   "execution_count": null,
   "metadata": {},
   "outputs": [],
   "source": [
    "fonts = ['IBM Plex Sans Arabic', 'Lemonada', 'Marhey', 'Scheherazade New']\n",
    "dataset_path = '../fonts-dataset'\n",
    "save_dir = '../preprocessed_images'\n",
    "img_dir = '../preprocessed_images'"
   ]
  },
  {
   "cell_type": "markdown",
   "metadata": {},
   "source": [
    "#  Proccess And Save\n"
   ]
  },
  {
   "cell_type": "code",
   "execution_count": null,
   "metadata": {},
   "outputs": [],
   "source": [
    "x_data = load_and_preprocess_images(fonts, dataset_path)\n",
    "y_data = generate_labels(fonts, dataset_path)\n",
    "save_images(x_data, y_data, save_dir)"
   ]
  }
 ],
 "metadata": {
  "language_info": {
   "name": "python"
  }
 },
 "nbformat": 4,
 "nbformat_minor": 2
}
