{
 "cells": [
  {
   "cell_type": "code",
   "execution_count": 2,
   "metadata": {},
   "outputs": [],
   "source": [
    "import matplotlib.pyplot as plt\n",
    "import numpy as np\n",
    "import skimage as ski\n",
    "from skimage import data\n",
    "from skimage import filters, io\n",
    "from skimage.filters import try_all_threshold\n",
    "from scipy import ndimage as ndi\n",
    "from scipy import stats\n",
    "import numpy as np\n",
    "import glob"
   ]
  },
  {
   "cell_type": "code",
   "execution_count": 4,
   "metadata": {},
   "outputs": [
    {
     "name": "stderr",
     "output_type": "stream",
     "text": [
      "c:\\Users\\Momo\\AppData\\Local\\Programs\\Python\\Python311\\Lib\\site-packages\\skimage\\util\\dtype.py:576: UserWarning: Downcasting int32 to uint8 without scaling because max value 255 fits in uint8\n",
      "  return _convert(image, np.uint8, force_copy)\n"
     ]
    },
    {
     "name": "stdout",
     "output_type": "stream",
     "text": [
      "shape of x_data: (4000, 1181, 1181) shape of y_data: (4000,)\n"
     ]
    }
   ],
   "source": [
    "x_data = []\n",
    "y_data = []\n",
    "Fonts = [ 'IBM Plex Sans Arabic', 'Lemonada', 'Marhey','Scheherazade New'] \n",
    "\n",
    "for font in Fonts:\n",
    "    for filename in sorted(glob.glob(f'./fonts-dataset/{font}/*.jpeg')):\n",
    "       img =ski.io.imread(filename)   \n",
    "       filtered_img = ski.filters.median(img,mode='nearest')\n",
    "       grayImg = ski.color.rgb2gray(filtered_img)\n",
    "       thresh= ski.filters.threshold_otsu(grayImg)#neb2a nshof meen\n",
    "       binary = grayImg < thresh\n",
    "       binaryImg = img = ski.util.img_as_ubyte(binary)\n",
    "       black_pixels = np.sum(binaryImg == 0)\n",
    "       total_pixels = binaryImg.size\n",
    "       percentage_black = (black_pixels / total_pixels) * 100\n",
    "\n",
    "       if percentage_black > 50:\n",
    "         inverted_binaryImg = np.where(binaryImg == 0, 255, 0)\n",
    "       else:\n",
    "          inverted_binaryImg = binaryImg\n",
    "\n",
    "       inverted_binaryImg = ski.util.img_as_ubyte(inverted_binaryImg)\n",
    "       x_data.append(inverted_binaryImg)                                  ## add the image to x_data\n",
    "       y_data.append(Fonts.index(font))  \n",
    "       \n",
    "x_data = np.asarray(x_data)\n",
    "y_data = np.asarray(y_data)\n",
    "\n",
    "\n",
    "print(\"shape of x_data:\", x_data.shape, \"shape of y_data:\", y_data.shape)"
   ]
  },
  {
   "cell_type": "code",
   "execution_count": 5,
   "metadata": {},
   "outputs": [],
   "source": [
    "import cv2\n",
    "import os\n",
    "import numpy as np\n",
    "\n",
    "# Assuming preprocessed_images is a list of your preprocessed images\n",
    "preprocessed_images = x_data\n",
    "\n",
    "# Specify the directory you want to save the images in\n",
    "save_dir = \"preprocessed_images\"\n",
    "\n",
    "# Make sure the directory exists, if not, create it\n",
    "if not os.path.exists(save_dir):\n",
    "    os.makedirs(save_dir)\n",
    "\n",
    "# Loop through your preprocessed images\n",
    "for i, img in enumerate(preprocessed_images):\n",
    "    # Convert the image to uint8\n",
    "    img_uint8 = (img).astype(np.uint8)\n",
    "    \n",
    "    # Define the name of the file\n",
    "    filename = os.path.join(save_dir, f\"{y_data[i]}_{i}.jpg\")\n",
    "    \n",
    "    # Save the image\n",
    "    cv2.imwrite(filename, img_uint8)"
   ]
  },
  {
   "cell_type": "code",
   "execution_count": 3,
   "metadata": {},
   "outputs": [],
   "source": [
    "import cv2\n",
    "import os\n",
    "import numpy as np\n",
    "\n",
    "# Specify the directory where your preprocessed images are saved\n",
    "img_dir = \"preprocessed_images\"\n",
    "\n",
    "# Get the list of image file names\n",
    "img_files = os.listdir(img_dir)\n",
    "\n",
    "# Initialize an empty list to store the images\n",
    "x_data = []\n",
    "y_data = []\n",
    "\n",
    "# Loop through the image files\n",
    "for img_file in img_files:\n",
    "    # Construct the full path of the image file\n",
    "    img_path = os.path.join(img_dir, img_file)\n",
    "    \n",
    "    # Read the image using cv2.imread\n",
    "    img = cv2.imread(img_path, cv2.IMREAD_GRAYSCALE)  # Use cv2.IMREAD_COLOR for color images\n",
    "    \n",
    "    # Append the image to x_data\n",
    "    x_data.append(img)\n",
    "    label=img_file.split('_')[0]\n",
    "    y_data.append(label)\n",
    "\n",
    "# Convert x_data to a numpy array\n",
    "x_data = np.array(x_data)\n",
    "y_data = np.array(y_data) \n",
    "\n",
    "# Now you can use x_data in your code\n",
    "p = np.random.permutation(len(x_data))\n",
    "x_data = x_data[p]\n",
    "y_data = y_data[p]\n",
    "del img_files\n"
   ]
  },
  {
   "cell_type": "code",
   "execution_count": 9,
   "metadata": {},
   "outputs": [
    {
     "name": "stderr",
     "output_type": "stream",
     "text": [
      "Processing batches: 100%|██████████| 41/41 [09:11<00:00, 13.44s/it]\n"
     ]
    }
   ],
   "source": [
    "from tqdm import tqdm\n",
    "from cv2 import resize, xfeatures2d\n",
    "import skimage as ski\n",
    "import numpy as np\n",
    "from sklearn.preprocessing import LabelEncoder\n",
    "from sklearn.preprocessing import StandardScaler\n",
    "from sklearn import svm\n",
    "\n",
    "sift = cv2.SIFT_create()\n",
    "sift_features = []\n",
    "hog_features = []\n",
    "\n",
    "batch_size = 100  # Adjust this based on your available memory\n",
    "num_batches = len(x_data) // batch_size\n",
    "\n",
    "for i in tqdm(range(num_batches + 1), desc=\"Processing batches\"):  # +1 to include the last batch\n",
    "    start = i * batch_size\n",
    "    end = min(start + batch_size, len(x_data))  # Ensure the end index doesn't exceed the number of images\n",
    "    batch = x_data[start:end]\n",
    "    \n",
    "    for image in batch:\n",
    "        # Resize the image\n",
    "        # image = resize(image, (400, 350))\n",
    "        \n",
    "        # Apply HOG feature extraction\n",
    "        hog_feat = ski.feature.hog(image, orientations=15, pixels_per_cell=(32,32), cells_per_block=(1, 1), block_norm='L2')\n",
    "        \n",
    "        # # Apply SIFT feature extraction\n",
    "        # _, sift_feat = sift.detectAndCompute(image, None)\n",
    "        \n",
    "        # if sift_feat is None:\n",
    "        # # # Create a zero-filled array of the appropriate size\n",
    "        #  sift_feat = np.zeros((1, sift.descriptorSize()))\n",
    "\n",
    "        # Append the features to the respective lists\n",
    "        # sift_features.append(sift_feat.ravel())  # ravel() flattens the array\n",
    "        hog_features.append(hog_feat)\n",
    "\n",
    "\n",
    "\n",
    "# # Find the maximum length of the feature vectors\n",
    "# max_length = max(len(feat) for feat in sift_features)\n",
    "\n",
    "# # Pad the feature vectors with zeros\n",
    "# sift_features_padded = [np.pad(feat, (0, max_length - len(feat))) for feat in sift_features]\n",
    "scaler = StandardScaler()\n",
    "# Convert lists to numpy arrays after all batches have been processed\n",
    "# sift_features_padded = np.array(sift_features_padded)\n",
    "# hog_features = np.array(hog_features)\n",
    "\n",
    "# Concatenate the features horizontally\n"
   ]
  },
  {
   "cell_type": "code",
   "execution_count": null,
   "metadata": {},
   "outputs": [],
   "source": []
  },
  {
   "cell_type": "code",
   "execution_count": 8,
   "metadata": {},
   "outputs": [
    {
     "data": {
      "text/plain": [
       "<matplotlib.image.AxesImage at 0x2af46d7a250>"
      ]
     },
     "execution_count": 8,
     "metadata": {},
     "output_type": "execute_result"
    },
    {
     "data": {
      "image/png": "[encoded data removed]",
      "text/plain": [
       "<Figure size 640x480 with 1 Axes>"
      ]
     },
     "metadata": {},
     "output_type": "display_data"
    }
   ],
   "source": [
    "# plot the first image in the data set\n",
    "plt.imshow(resize(x_data[0],(400,350)), cmap='gray')"
   ]
  },
  {
   "cell_type": "code",
   "execution_count": 11,
   "metadata": {},
   "outputs": [],
   "source": [
    "hog_features = np.hstack([hog_features])\n",
    "normalized_features = scaler.fit_transform(hog_features)\n",
    "#save the features\n",
    "np.save('hog_features.npy', normalized_features)\n",
    "\n",
    "del sift_features, x_data , hog_features"
   ]
  },
  {
   "cell_type": "code",
   "execution_count": null,
   "metadata": {},
   "outputs": [
    {
     "name": "stdout",
     "output_type": "stream",
     "text": [
      "shape of x_train: (2800, 95040) shape of y_train: (2800,)\n",
      "shape of x_val: (1200, 95040) shape of y_val: (1200,)\n"
     ]
    }
   ],
   "source": [
    "from sklearn.model_selection import train_test_split\n",
    "\n",
    "# First split the data into a training set and a temporary set using a 70-30 split\n",
    "x_train, x_val, y_train, y_val = train_test_split(normalized_features, y_data, test_size=0.3, random_state=22, stratify=y_data)\n",
    "\n",
    "# Then split the temporary set into a validation set and a test set using a 50-50 split\n",
    "\n",
    "\n",
    "print(\"shape of x_train:\", x_train.shape, \"shape of y_train:\", y_train.shape)\n",
    "print(\"shape of x_val:\", x_val.shape, \"shape of y_val:\", y_val.shape)\n",
    "\n",
    "del normalized_features, y_data"
   ]
  },
  {
   "cell_type": "code",
   "execution_count": null,
   "metadata": {},
   "outputs": [],
   "source": [
    "from sklearn.decomposition import PCA\n",
    "\n",
    "# Create a PCA object\n",
    "pca = PCA(n_components=0.9999)  # Adjust this to the desired number of components or variance to retain\n",
    "\n",
    "# Fit the PCA model and transform the data\n",
    "features_pca = pca.fit(x_train)\n",
    "features_pca = pca.transform(x_train)\n",
    "\n",
    "del x_train\n"
   ]
  },
  {
   "cell_type": "code",
   "execution_count": null,
   "metadata": {},
   "outputs": [],
   "source": [
    "# Encode the labels to integers\n",
    "le = LabelEncoder()\n",
    "y_data_encoded = le.fit_transform(y_train[:len(features_pca)])  # Ensure the number of labels matches the number of features\n",
    "\n",
    "# Create an SVM classifier with gamma='scale' and C=1\n",
    "clf = svm.SVC(gamma='scale', C=6.4)\n",
    "\n",
    "# Fit the classifier on the data\n",
    "clf.fit(features_pca, y_data_encoded)\n",
    "\n",
    "del features_pca, y_data_encoded\n",
    "\n",
    "# Now the SVM model is trained and ready to make predictions"
   ]
  },
  {
   "cell_type": "code",
   "execution_count": null,
   "metadata": {},
   "outputs": [
    {
     "name": "stdout",
     "output_type": "stream",
     "text": [
      "Validation accuracy: 78.42%\n"
     ]
    }
   ],
   "source": [
    "from sklearn.metrics import accuracy_score# Apply PCA\n",
    "features_pca = pca.transform(x_val)\n",
    "\n",
    "# Encode the validation labels\n",
    "y_val_encoded = le.transform(y_val)\n",
    "\n",
    "# Use the trained SVM model to make predictions on the validation set\n",
    "\n",
    "y_pred = clf.predict(features_pca)\n",
    "\n",
    "# Compute the accuracy of the predictions\n",
    "accuracy = accuracy_score(y_val_encoded, y_pred)\n",
    "\n",
    "print(f\"Validation accuracy: {accuracy * 100:.2f}%\")"
   ]
  },
  {
   "cell_type": "code",
   "execution_count": null,
   "metadata": {},
   "outputs": [
    {
     "data": {
      "text/plain": [
       "(1200, 2783)"
      ]
     },
     "execution_count": 8,
     "metadata": {},
     "output_type": "execute_result"
    }
   ],
   "source": [
    "features_pca.shape"
   ]
  },
  {
   "cell_type": "code",
   "execution_count": null,
   "metadata": {},
   "outputs": [],
   "source": []
  }
 ],
 "metadata": {
  "kernelspec": {
   "display_name": "Python 3",
   "language": "python",
   "name": "python3"
  },
  "language_info": {
   "codemirror_mode": {
    "name": "ipython",
    "version": 3
   },
   "file_extension": ".py",
   "mimetype": "text/x-python",
   "name": "python",
   "nbconvert_exporter": "python",
   "pygments_lexer": "ipython3",
   "version": "3.11.5"
  }
 },
 "nbformat": 4,
 "nbformat_minor": 2
}
