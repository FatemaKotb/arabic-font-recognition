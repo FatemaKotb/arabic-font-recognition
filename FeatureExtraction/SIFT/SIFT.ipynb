{
 "cells": [
  {
   "cell_type": "markdown",
   "metadata": {},
   "source": [
    "## Compute SIFT descriptors 1D to train the Kmeans Model"
   ]
  },
  {
   "cell_type": "code",
   "execution_count": 1,
   "metadata": {},
   "outputs": [],
   "source": [
    "import cv2\n",
    "from tqdm import tqdm"
   ]
  },
  {
   "cell_type": "code",
   "execution_count": 2,
   "metadata": {},
   "outputs": [],
   "source": [
    "def compute_sift_descriptors_to_train_Kmeans(x_data):\n",
    "    # Initialize the SIFT feature extractor\n",
    "    sift = cv2.SIFT_create()\n",
    "\n",
    "    # Initialize an empty list to store the SIFT descriptors\n",
    "    sift_descriptors = []\n",
    "\n",
    "    # Iterate over each image in x_data_subset\n",
    "    for img in tqdm(x_data, desc=\"Computing SIFT descriptors\"):\n",
    "        # Compute the SIFT descriptors for the current image\n",
    "        keypoints, descriptors = sift.detectAndCompute(img, None)\n",
    "\n",
    "        # Check if descriptors is None\n",
    "        if descriptors is not None:\n",
    "            # If descriptors is not None, append the descriptors\n",
    "            sift_descriptors.extend(descriptors)\n",
    "\n",
    "    return sift_descriptors"
   ]
  },
  {
   "cell_type": "markdown",
   "metadata": {},
   "source": [
    "## Train the Kmeans Model on the SIFT descriptors"
   ]
  },
  {
   "cell_type": "code",
   "execution_count": 6,
   "metadata": {},
   "outputs": [],
   "source": [
    "from sklearn.cluster import KMeans"
   ]
  },
  {
   "cell_type": "code",
   "execution_count": null,
   "metadata": {},
   "outputs": [],
   "source": [
    "def train_kmeans(sift_descriptors):\n",
    "    # Initialize the K(Means algorithm\n",
    "    kmeans = KMeans(n_clusters=100, random_state=42)\n",
    "\n",
    "    # Fit the KMeans algorithm on the stacked descriptors\n",
    "    kmeans.fit(sift_descriptors)\n",
    "\n",
    "    return kmeans"
   ]
  },
  {
   "cell_type": "markdown",
   "metadata": {},
   "source": [
    "## Compute SIFT descriptors MD to compute the feature vectors"
   ]
  },
  {
   "cell_type": "code",
   "execution_count": null,
   "metadata": {},
   "outputs": [],
   "source": [
    "def compute_sift_descriptors_to_train_SVM(x_data):\n",
    "    # Initialize the SIFT feature extractor\n",
    "    sift = cv2.SIFT_create()\n",
    "\n",
    "    # Initialize an empty list to store the SIFT descriptors\n",
    "    sift_descriptors = []\n",
    "\n",
    "    # Iterate over each image in x_data_subset\n",
    "    for img in tqdm(x_data, desc=\"Computing SIFT descriptors\"):\n",
    "        # Compute the SIFT descriptors for the current image\n",
    "        keypoints, descriptors = sift.detectAndCompute(img, None)\n",
    "\n",
    "        # Check if descriptors is None\n",
    "        if descriptors is not None:\n",
    "            # If descriptors is not None, append the descriptors\n",
    "            sift_descriptors.append(descriptors)\n",
    "        else:\n",
    "            # If descriptors is None, append an empty list\n",
    "            sift_descriptors.append([])\n",
    "\n",
    "    return sift_descriptors"
   ]
  },
  {
   "cell_type": "markdown",
   "metadata": {},
   "source": [
    "## Compute the Feature Vectors"
   ]
  },
  {
   "cell_type": "code",
   "execution_count": null,
   "metadata": {},
   "outputs": [],
   "source": [
    "import numpy as np"
   ]
  },
  {
   "cell_type": "code",
   "execution_count": null,
   "metadata": {},
   "outputs": [],
   "source": [
    "def compute_histograms(kmeans, image_descriptors):\n",
    "    # Initialize an empty list to store the feature vectors\n",
    "    feature_vectors = []\n",
    "\n",
    "    # Iterate over each image in image_descriptors\n",
    "    for descriptors in tqdm(image_descriptors, desc=\"Computing histograms\"):\n",
    "        # Check if descriptors is not empty\n",
    "        if len(descriptors) > 0:\n",
    "            # Predict the cluster assignments for the descriptors of the current image\n",
    "            cluster_assignments = kmeans.predict(descriptors.astype(np.float64))\n",
    "\n",
    "            # Create a histogram of cluster assignments\n",
    "            histogram = np.bincount(cluster_assignments, minlength=100)\n",
    "        else:\n",
    "            # If descriptors is empty, create an empty histogram\n",
    "            histogram = np.zeros(100)\n",
    "\n",
    "        # Append the histogram to feature_vectors\n",
    "        feature_vectors.append(histogram)\n",
    "\n",
    "    return feature_vectors"
   ]
  }
 ],
 "metadata": {
  "kernelspec": {
   "display_name": "base",
   "language": "python",
   "name": "python3"
  },
  "language_info": {
   "codemirror_mode": {
    "name": "ipython",
    "version": 3
   },
   "file_extension": ".py",
   "mimetype": "text/x-python",
   "name": "python",
   "nbconvert_exporter": "python",
   "pygments_lexer": "ipython3",
   "version": "3.11.5"
  }
 },
 "nbformat": 4,
 "nbformat_minor": 2
}
