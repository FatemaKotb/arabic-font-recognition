{
 "cells": [
  {
   "cell_type": "markdown",
   "metadata": {},
   "source": [
    "# Testing Feature Extraction Functions\n",
    "\n",
    "We will test the feature extraction functions using a subset of our image dataset."
   ]
  },
  {
   "cell_type": "code",
   "execution_count": 2,
   "metadata": {},
   "outputs": [
    {
     "name": "stderr",
     "output_type": "stream",
     "text": [
      "Loading fonts: 100%|██████████| 4/4 [00:00<00:00, 20.45it/s]\n"
     ]
    }
   ],
   "source": [
    "import sys\n",
    "sys.path.append('../../DataPreparation')\n",
    "\n",
    "from DataPreparation import load_images\n",
    "\n",
    "# Load 25 preprocessed images\n",
    "x_data, y_data = load_images(start_index = 0, batch_size = 10)"
   ]
  },
  {
   "cell_type": "markdown",
   "metadata": {},
   "source": [
    "## Testing compute_sift_descriptors_to_train_Kmeans Function"
   ]
  },
  {
   "cell_type": "code",
   "execution_count": 4,
   "metadata": {},
   "outputs": [
    {
     "name": "stderr",
     "output_type": "stream",
     "text": [
      "Computing SIFT descriptors: 100%|██████████| 40/40 [00:10<00:00,  3.98it/s]\n"
     ]
    }
   ],
   "source": [
    "from SIFT import compute_sift_descriptors_to_train_Kmeans\n",
    "\n",
    "sift_descriptors = compute_sift_descriptors_to_train_Kmeans(x_data)"
   ]
  },
  {
   "cell_type": "markdown",
   "metadata": {},
   "source": [
    "## Testing train_kmeans Function"
   ]
  },
  {
   "cell_type": "code",
   "execution_count": 5,
   "metadata": {},
   "outputs": [
    {
     "name": "stderr",
     "output_type": "stream",
     "text": [
      "c:\\Users\\fatom\\anaconda3\\Lib\\site-packages\\sklearn\\cluster\\_kmeans.py:1412: FutureWarning: The default value of `n_init` will change from 10 to 'auto' in 1.4. Set the value of `n_init` explicitly to suppress the warning\n",
      "  super()._check_params_vs_input(X, default_n_init=10)\n"
     ]
    }
   ],
   "source": [
    "from SIFT import train_kmeans\n",
    "\n",
    "kmeans = train_kmeans(sift_descriptors)"
   ]
  },
  {
   "cell_type": "markdown",
   "metadata": {},
   "source": [
    "## Testing compute_sift_descriptors_to_train_SVM Function"
   ]
  },
  {
   "cell_type": "code",
   "execution_count": 7,
   "metadata": {},
   "outputs": [
    {
     "name": "stderr",
     "output_type": "stream",
     "text": [
      "Computing SIFT descriptors: 100%|██████████| 40/40 [00:10<00:00,  3.70it/s]\n"
     ]
    }
   ],
   "source": [
    "from SIFT import compute_sift_descriptors_to_train_SVM\n",
    "\n",
    "sift_descriptors_svm = compute_sift_descriptors_to_train_SVM(x_data)"
   ]
  },
  {
   "cell_type": "markdown",
   "metadata": {},
   "source": [
    "## Testing compute_histograms Function"
   ]
  },
  {
   "cell_type": "code",
   "execution_count": 13,
   "metadata": {},
   "outputs": [
    {
     "name": "stderr",
     "output_type": "stream",
     "text": [
      "Computing histograms: 100%|██████████| 40/40 [00:00<00:00, 77.22it/s]\n"
     ]
    }
   ],
   "source": [
    "from SIFT import compute_histograms\n",
    "\n",
    "feature_vectors = compute_histograms(kmeans, sift_descriptors_svm)"
   ]
  }
 ],
 "metadata": {
  "kernelspec": {
   "display_name": "base",
   "language": "python",
   "name": "python3"
  },
  "language_info": {
   "codemirror_mode": {
    "name": "ipython",
    "version": 3
   },
   "file_extension": ".py",
   "mimetype": "text/x-python",
   "name": "python",
   "nbconvert_exporter": "python",
   "pygments_lexer": "ipython3",
   "version": "3.11.5"
  }
 },
 "nbformat": 4,
 "nbformat_minor": 2
}
