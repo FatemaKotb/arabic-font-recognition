{
 "cells": [
  {
   "cell_type": "markdown",
   "metadata": {},
   "source": [
    "# Data Preparation"
   ]
  },
  {
   "cell_type": "code",
   "execution_count": 1,
   "metadata": {},
   "outputs": [],
   "source": [
    "import skimage as ski\n",
    "import numpy as np"
   ]
  },
  {
   "cell_type": "code",
   "execution_count": 2,
   "metadata": {},
   "outputs": [],
   "source": [
    "import sys\n",
    "sys.path.append('../../DataPreparation')\n",
    "\n",
    "import sys\n",
    "sys.path.append('../../FeatureExtraction/SIFT')"
   ]
  },
  {
   "cell_type": "code",
   "execution_count": 3,
   "metadata": {},
   "outputs": [
    {
     "name": "stderr",
     "output_type": "stream",
     "text": [
      "Processing IBM Plex Sans Arabic: 100%|██████████| 20/20 [00:11<00:00,  1.71it/s]\n",
      "Processing Lemonada: 100%|██████████| 20/20 [00:14<00:00,  1.39it/s]\n",
      "Processing Marhey: 100%|██████████| 20/20 [00:12<00:00,  1.55it/s]\n",
      "Processing Scheherazade New: 100%|██████████| 20/20 [00:07<00:00,  2.53it/s]"
     ]
    },
    {
     "name": "stdout",
     "output_type": "stream",
     "text": [
      "Image preprocessing and saving completed.\n"
     ]
    },
    {
     "name": "stderr",
     "output_type": "stream",
     "text": [
      "\n"
     ]
    }
   ],
   "source": [
    "from DataPreparation import preprocess_and_save_images\n",
    "\n",
    "# Preprocess and save images\n",
    "preprocess_and_save_images(start_index = 0, batch_size = 20)"
   ]
  },
  {
   "cell_type": "code",
   "execution_count": 4,
   "metadata": {},
   "outputs": [
    {
     "name": "stderr",
     "output_type": "stream",
     "text": [
      "Loading fonts: 100%|██████████| 4/4 [00:00<00:00,  8.19it/s]\n"
     ]
    }
   ],
   "source": [
    "from DataPreparation import load_images\n",
    "\n",
    "# Load preprocessed images\n",
    "x_data, y_data = load_images(start_index = 0, batch_size = 10)"
   ]
  },
  {
   "cell_type": "markdown",
   "metadata": {},
   "source": [
    "# Feature Extraction"
   ]
  },
  {
   "cell_type": "code",
   "execution_count": 5,
   "metadata": {},
   "outputs": [
    {
     "name": "stderr",
     "output_type": "stream",
     "text": [
      "Computing SIFT descriptors: 100%|██████████| 40/40 [00:09<00:00,  4.08it/s]\n"
     ]
    }
   ],
   "source": [
    "from SIFT import compute_sift_descriptors_to_train_Kmeans\n",
    "\n",
    "sift_descriptors = compute_sift_descriptors_to_train_Kmeans(x_data)"
   ]
  },
  {
   "cell_type": "code",
   "execution_count": 6,
   "metadata": {},
   "outputs": [
    {
     "name": "stderr",
     "output_type": "stream",
     "text": [
      "c:\\Users\\fatom\\anaconda3\\Lib\\site-packages\\sklearn\\cluster\\_kmeans.py:1412: FutureWarning: The default value of `n_init` will change from 10 to 'auto' in 1.4. Set the value of `n_init` explicitly to suppress the warning\n",
      "  super()._check_params_vs_input(X, default_n_init=10)\n"
     ]
    }
   ],
   "source": [
    "from SIFT import train_kmeans\n",
    "\n",
    "kmeans = train_kmeans(sift_descriptors)"
   ]
  },
  {
   "cell_type": "code",
   "execution_count": 7,
   "metadata": {},
   "outputs": [
    {
     "name": "stderr",
     "output_type": "stream",
     "text": [
      "Computing SIFT descriptors: 100%|██████████| 40/40 [00:10<00:00,  3.81it/s]\n"
     ]
    }
   ],
   "source": [
    "from SIFT import compute_sift_descriptors_to_train_SVM\n",
    "\n",
    "sift_descriptors_svm = compute_sift_descriptors_to_train_SVM(x_data)"
   ]
  },
  {
   "cell_type": "code",
   "execution_count": 8,
   "metadata": {},
   "outputs": [
    {
     "name": "stderr",
     "output_type": "stream",
     "text": [
      "Computing histograms: 100%|██████████| 40/40 [00:00<00:00, 46.05it/s]\n"
     ]
    }
   ],
   "source": [
    "from SIFT import compute_histograms\n",
    "\n",
    "feature_vectors = compute_histograms(kmeans, sift_descriptors_svm)"
   ]
  },
  {
   "cell_type": "markdown",
   "metadata": {},
   "source": [
    "# Model Training"
   ]
  },
  {
   "cell_type": "markdown",
   "metadata": {},
   "source": [
    "## Prepare Data for SVM\n",
    "We then scale our feature vectors using the StandardScaler from sklearn. This is a good practice before using SVM."
   ]
  },
  {
   "cell_type": "code",
   "execution_count": 9,
   "metadata": {},
   "outputs": [],
   "source": [
    "from SVM import prepare_data_for_svm\n",
    "\n",
    "scaled_feature_vectors = prepare_data_for_svm(feature_vectors)"
   ]
  },
  {
   "cell_type": "markdown",
   "metadata": {},
   "source": [
    "## Train SVM\n",
    "We then train our SVM classifier using the scaled feature vectors. We're using a Radial Basis Function (RBF) kernel."
   ]
  },
  {
   "cell_type": "code",
   "execution_count": 10,
   "metadata": {},
   "outputs": [],
   "source": [
    "from SVM import train_svm\n",
    "\n",
    "clf = train_svm(scaled_feature_vectors, y_data)"
   ]
  },
  {
   "cell_type": "markdown",
   "metadata": {},
   "source": [
    "## Test SVM\n",
    "Finally, we test our trained SVM model on the test data and print the score."
   ]
  },
  {
   "cell_type": "code",
   "execution_count": 11,
   "metadata": {},
   "outputs": [
    {
     "name": "stderr",
     "output_type": "stream",
     "text": [
      "Loading fonts: 100%|██████████| 4/4 [00:00<00:00,  6.18it/s]\n",
      "Computing SIFT descriptors: 100%|██████████| 40/40 [00:10<00:00,  3.80it/s]\n",
      "Computing histograms: 100%|██████████| 40/40 [00:00<00:00, 50.92it/s]"
     ]
    },
    {
     "name": "stdout",
     "output_type": "stream",
     "text": [
      "Score:  0.25\n"
     ]
    },
    {
     "name": "stderr",
     "output_type": "stream",
     "text": [
      "\n"
     ]
    }
   ],
   "source": [
    "from DataPreparation import load_images\n",
    "from SVM import test_svm\n",
    "\n",
    "# Load preprocessed images\n",
    "x_test, y_test = load_images(start_index = 10, batch_size = 19)\n",
    "\n",
    "# Compute the feature vectors for the test set\n",
    "feature_vectors_test = compute_histograms(kmeans, compute_sift_descriptors_to_train_SVM(x_test))\n",
    "\n",
    "# Test the SVM\n",
    "score = test_svm(clf, feature_vectors_test, y_test)\n",
    "\n",
    "print(\"Score: \", score)"
   ]
  }
 ],
 "metadata": {
  "kernelspec": {
   "display_name": "base",
   "language": "python",
   "name": "python3"
  },
  "language_info": {
   "codemirror_mode": {
    "name": "ipython",
    "version": 3
   },
   "file_extension": ".py",
   "mimetype": "text/x-python",
   "name": "python",
   "nbconvert_exporter": "python",
   "pygments_lexer": "ipython3",
   "version": "3.11.5"
  }
 },
 "nbformat": 4,
 "nbformat_minor": 2
}
