{
 "cells": [
  {
   "cell_type": "markdown",
   "metadata": {},
   "source": [
    "# Data Preparation"
   ]
  },
  {
   "cell_type": "code",
   "execution_count": null,
   "metadata": {},
   "outputs": [],
   "source": [
    "import skimage as ski\n",
    "import numpy as np"
   ]
  },
  {
   "cell_type": "code",
   "execution_count": null,
   "metadata": {},
   "outputs": [],
   "source": [
    "import sys\n",
    "sys.path.append('../../DataPreparation')\n",
    "\n",
    "import sys\n",
    "sys.path.append('../../FeatureExtraction/SIFT')"
   ]
  },
  {
   "cell_type": "code",
   "execution_count": null,
   "metadata": {},
   "outputs": [],
   "source": [
    "from DataPreparation import preprocess_and_save_images\n",
    "\n",
    "# Preprocess and save images\n",
    "preprocess_and_save_images(start_index = 0, batch_size = 10)"
   ]
  },
  {
   "cell_type": "code",
   "execution_count": null,
   "metadata": {},
   "outputs": [],
   "source": [
    "from DataPreparation import load_images\n",
    "\n",
    "# Load preprocessed images\n",
    "x_data, y_data = load_images(start_index = 0, batch_size = 10)"
   ]
  },
  {
   "cell_type": "markdown",
   "metadata": {},
   "source": [
    "# Feature Extraction"
   ]
  },
  {
   "cell_type": "code",
   "execution_count": null,
   "metadata": {},
   "outputs": [],
   "source": [
    "from SIFT import compute_sift_descriptors_to_train_Kmeans\n",
    "\n",
    "sift_descriptors = compute_sift_descriptors_to_train_Kmeans(x_data)"
   ]
  },
  {
   "cell_type": "code",
   "execution_count": null,
   "metadata": {},
   "outputs": [],
   "source": [
    "from SIFT import train_kmeans\n",
    "\n",
    "kmeans = train_kmeans(sift_descriptors, \"MiniBatchKMeans\")"
   ]
  },
  {
   "cell_type": "code",
   "execution_count": null,
   "metadata": {},
   "outputs": [],
   "source": [
    "from SIFT import compute_sift_descriptors_to_train_SVM\n",
    "\n",
    "sift_descriptors_svm = compute_sift_descriptors_to_train_SVM(x_data)"
   ]
  },
  {
   "cell_type": "code",
   "execution_count": null,
   "metadata": {},
   "outputs": [],
   "source": [
    "from SIFT import compute_histograms\n",
    "\n",
    "feature_vectors = compute_histograms(kmeans, sift_descriptors_svm)"
   ]
  },
  {
   "cell_type": "markdown",
   "metadata": {},
   "source": [
    "# Model Training"
   ]
  },
  {
   "cell_type": "markdown",
   "metadata": {},
   "source": [
    "## Prepare Data for SVM\n",
    "We then scale our feature vectors using the StandardScaler from sklearn. This is a good practice before using SVM."
   ]
  },
  {
   "cell_type": "code",
   "execution_count": null,
   "metadata": {},
   "outputs": [],
   "source": [
    "from SVM import prepare_data_for_svm\n",
    "\n",
    "scaled_feature_vectors = prepare_data_for_svm(feature_vectors)"
   ]
  },
  {
   "cell_type": "markdown",
   "metadata": {},
   "source": [
    "## Train SVM\n",
    "We then train our SVM classifier using the scaled feature vectors. We're using a Radial Basis Function (RBF) kernel."
   ]
  },
  {
   "cell_type": "code",
   "execution_count": null,
   "metadata": {},
   "outputs": [],
   "source": [
    "from SVM import train_svm\n",
    "\n",
    "clf = train_svm(scaled_feature_vectors, y_data)"
   ]
  },
  {
   "cell_type": "markdown",
   "metadata": {},
   "source": [
    "## Test SVM\n",
    "Finally, we test our trained SVM model on the test data and print the score."
   ]
  },
  {
   "cell_type": "code",
   "execution_count": null,
   "metadata": {},
   "outputs": [],
   "source": [
    "from DataPreparation import load_images\n",
    "from SVM import test_svm\n",
    "\n",
    "# Load preprocessed images\n",
    "x_test, y_test = load_images(start_index = 500, batch_size = 50)\n",
    "\n",
    "# Compute the feature vectors for the test set\n",
    "feature_vectors_test = compute_histograms(kmeans, compute_sift_descriptors_to_train_SVM(x_test))\n",
    "\n",
    "# Test the SVM\n",
    "score = test_svm(clf, feature_vectors_test, y_test)\n",
    "\n",
    "print(\"Score: \", score)"
   ]
  }
 ],
 "metadata": {
  "kernelspec": {
   "display_name": "base",
   "language": "python",
   "name": "python3"
  },
  "language_info": {
   "codemirror_mode": {
    "name": "ipython",
    "version": 3
   },
   "file_extension": ".py",
   "mimetype": "text/x-python",
   "name": "python",
   "nbconvert_exporter": "python",
   "pygments_lexer": "ipython3",
   "version": "3.11.5"
  }
 },
 "nbformat": 4,
 "nbformat_minor": 2
}
