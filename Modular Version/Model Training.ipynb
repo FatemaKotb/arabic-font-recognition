{
 "cells": [
  {
   "cell_type": "markdown",
   "metadata": {},
   "source": [
    "## SVM"
   ]
  },
  {
   "cell_type": "code",
   "execution_count": null,
   "metadata": {},
   "outputs": [],
   "source": [
    "from sklearn import svm\n",
    "from sklearn.preprocessing import StandardScaler"
   ]
  },
  {
   "cell_type": "code",
   "execution_count": null,
   "metadata": {},
   "outputs": [],
   "source": [
    "def prepare_data_for_svm(feature_vectors):\n",
    "    # It's a good practice to scale your data before using SVM\n",
    "    scaler = StandardScaler()\n",
    "    feature_vectors = scaler.fit_transform(feature_vectors)"
   ]
  },
  {
   "cell_type": "code",
   "execution_count": null,
   "metadata": {},
   "outputs": [],
   "source": [
    "def train_svm(x_date, y_data):\n",
    "    # Create a SVM classifier with a Radial Basis Function (RBF) kernel\n",
    "    clf = svm.SVC(kernel='rbf', gamma='scale')\n",
    "\n",
    "    # Train the model using the training sets\n",
    "    clf.fit(x_date, y_data)"
   ]
  },
  {
   "cell_type": "code",
   "execution_count": null,
   "metadata": {},
   "outputs": [],
   "source": [
    "def test_svm(clf, x_test, y_test):\n",
    "    # Predict the response for test dataset\n",
    "    y_pred = clf.predict(x_test)\n",
    "\n",
    "    clf.score(x_test, y_test)"
   ]
  }
 ],
 "metadata": {
  "language_info": {
   "name": "python"
  }
 },
 "nbformat": 4,
 "nbformat_minor": 2
}
