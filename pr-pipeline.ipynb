{
 "cells": [
  {
   "cell_type": "markdown",
   "id": "f51c12a5",
   "metadata": {
    "papermill": {
     "duration": 0.007382,
     "end_time": "2024-05-14T00:26:10.682916",
     "exception": false,
     "start_time": "2024-05-14T00:26:10.675534",
     "status": "completed"
    },
    "tags": []
   },
   "source": [
    "# Data Preparation"
   ]
  },
  {
   "cell_type": "code",
   "execution_count": 1,
   "id": "f2d64bfc",
   "metadata": {
    "execution": {
     "iopub.execute_input": "2024-05-14T00:26:10.698783Z",
     "iopub.status.busy": "2024-05-14T00:26:10.698325Z",
     "iopub.status.idle": "2024-05-14T00:26:10.817206Z",
     "shell.execute_reply": "2024-05-14T00:26:10.815979Z"
    },
    "papermill": {
     "duration": 0.130293,
     "end_time": "2024-05-14T00:26:10.820121",
     "exception": false,
     "start_time": "2024-05-14T00:26:10.689828",
     "status": "completed"
    },
    "tags": []
   },
   "outputs": [],
   "source": [
    "import skimage as ski\n",
    "import numpy as np"
   ]
  },
  {
   "cell_type": "code",
   "execution_count": 2,
   "id": "aa1a0370",
   "metadata": {
    "execution": {
     "iopub.execute_input": "2024-05-14T00:26:10.836582Z",
     "iopub.status.busy": "2024-05-14T00:26:10.836125Z",
     "iopub.status.idle": "2024-05-14T00:26:10.841872Z",
     "shell.execute_reply": "2024-05-14T00:26:10.840720Z"
    },
    "papermill": {
     "duration": 0.016862,
     "end_time": "2024-05-14T00:26:10.844339",
     "exception": false,
     "start_time": "2024-05-14T00:26:10.827477",
     "status": "completed"
    },
    "tags": []
   },
   "outputs": [],
   "source": [
    "import sys\n",
    "sys.path.append('./Scripts')\n",
    "\n",
    "import pr_data_preparation\n",
    "import pr_model_training\n",
    "import pr_save_load_models\n",
    "import pr_feature_extraction"
   ]
  },
  {
   "cell_type": "code",
   "execution_count": null,
   "id": "76315ab4",
   "metadata": {
    "execution": {
     "iopub.execute_input": "2024-05-14T00:26:10.860256Z",
     "iopub.status.busy": "2024-05-14T00:26:10.859844Z",
     "iopub.status.idle": "2024-05-14T01:03:46.923096Z",
     "shell.execute_reply": "2024-05-14T01:03:46.921786Z"
    },
    "papermill": {
     "duration": 2256.074855,
     "end_time": "2024-05-14T01:03:46.926187",
     "exception": false,
     "start_time": "2024-05-14T00:26:10.851332",
     "status": "completed"
    },
    "tags": []
   },
   "outputs": [],
   "source": [
    "from pr_data_preparation import preprocess_and_save_images\n",
    "\n",
    "# Preprocess and save images\n",
    "preprocess_and_save_images(start_index = 0, batch_size = 200)"
   ]
  },
  {
   "cell_type": "code",
   "execution_count": 3,
   "id": "39f05cb8",
   "metadata": {
    "execution": {
     "iopub.execute_input": "2024-05-14T01:03:47.497424Z",
     "iopub.status.busy": "2024-05-14T01:03:47.496850Z",
     "iopub.status.idle": "2024-05-14T01:04:14.214494Z",
     "shell.execute_reply": "2024-05-14T01:04:14.212416Z"
    },
    "papermill": {
     "duration": 27.005807,
     "end_time": "2024-05-14T01:04:14.217339",
     "exception": false,
     "start_time": "2024-05-14T01:03:47.211532",
     "status": "completed"
    },
    "tags": []
   },
   "outputs": [
    {
     "name": "stderr",
     "output_type": "stream",
     "text": [
      "Loading fonts: 100%|██████████| 4/4 [00:04<00:00,  1.17s/it]\n"
     ]
    }
   ],
   "source": [
    "from pr_data_preparation import load_images\n",
    "\n",
    "# Load preprocessed images\n",
    "x_data, y_data = load_images(start_index = 0, batch_size = 200)"
   ]
  },
  {
   "cell_type": "markdown",
   "id": "3d4e97e4",
   "metadata": {
    "papermill": {
     "duration": 0.298068,
     "end_time": "2024-05-14T01:04:14.807270",
     "exception": false,
     "start_time": "2024-05-14T01:04:14.509202",
     "status": "completed"
    },
    "tags": []
   },
   "source": [
    "# Feature Extraction"
   ]
  },
  {
   "cell_type": "code",
   "execution_count": 4,
   "id": "ce156fba",
   "metadata": {
    "execution": {
     "iopub.execute_input": "2024-05-14T01:04:15.401412Z",
     "iopub.status.busy": "2024-05-14T01:04:15.401019Z",
     "iopub.status.idle": "2024-05-14T01:23:01.464603Z",
     "shell.execute_reply": "2024-05-14T01:23:01.462305Z"
    },
    "papermill": {
     "duration": 1126.363569,
     "end_time": "2024-05-14T01:23:01.467104",
     "exception": false,
     "start_time": "2024-05-14T01:04:15.103535",
     "status": "completed"
    },
    "tags": []
   },
   "outputs": [
    {
     "name": "stderr",
     "output_type": "stream",
     "text": [
      "Computing SIFT descriptors: 100%|██████████| 800/800 [03:45<00:00,  3.55it/s]\n"
     ]
    }
   ],
   "source": [
    "from pr_feature_extraction import compute_sift_descriptors\n",
    "\n",
    "sift_descriptors_to_train_Kmeans, sift_descriptors_to_train_SVM = compute_sift_descriptors(x_data)"
   ]
  },
  {
   "cell_type": "code",
   "execution_count": 5,
   "id": "044256d0",
   "metadata": {
    "execution": {
     "iopub.execute_input": "2024-05-14T01:23:02.621226Z",
     "iopub.status.busy": "2024-05-14T01:23:02.620062Z",
     "iopub.status.idle": "2024-05-14T01:23:40.133422Z",
     "shell.execute_reply": "2024-05-14T01:23:40.132369Z"
    },
    "papermill": {
     "duration": 38.096463,
     "end_time": "2024-05-14T01:23:40.136230",
     "exception": false,
     "start_time": "2024-05-14T01:23:02.039767",
     "status": "completed"
    },
    "tags": []
   },
   "outputs": [],
   "source": [
    "from pr_feature_extraction import train_kmeans\n",
    "\n",
    "kmeans = train_kmeans(sift_descriptors_to_train_Kmeans)"
   ]
  },
  {
   "cell_type": "markdown",
   "id": "6b56520f",
   "metadata": {
    "papermill": {
     "duration": 0.575123,
     "end_time": "2024-05-14T01:23:41.285088",
     "exception": false,
     "start_time": "2024-05-14T01:23:40.709965",
     "status": "completed"
    },
    "tags": []
   },
   "source": [
    "#### Save Kmeans Model\n",
    "After training the Kmeans model, we save it for future use."
   ]
  },
  {
   "cell_type": "code",
   "execution_count": 6,
   "id": "1131637f",
   "metadata": {
    "execution": {
     "iopub.execute_input": "2024-05-14T01:23:42.500608Z",
     "iopub.status.busy": "2024-05-14T01:23:42.500217Z",
     "iopub.status.idle": "2024-05-14T01:23:42.564040Z",
     "shell.execute_reply": "2024-05-14T01:23:42.562813Z"
    },
    "papermill": {
     "duration": 0.635276,
     "end_time": "2024-05-14T01:23:42.566946",
     "exception": false,
     "start_time": "2024-05-14T01:23:41.931670",
     "status": "completed"
    },
    "tags": []
   },
   "outputs": [],
   "source": [
    "from pr_save_load_models import save_Kmeans_model\n",
    "\n",
    "# Save the KMeans model\n",
    "save_Kmeans_model(kmeans)"
   ]
  },
  {
   "cell_type": "code",
   "execution_count": 7,
   "id": "a617e236",
   "metadata": {
    "execution": {
     "iopub.execute_input": "2024-05-14T01:23:43.721823Z",
     "iopub.status.busy": "2024-05-14T01:23:43.721042Z",
     "iopub.status.idle": "2024-05-14T01:23:54.705479Z",
     "shell.execute_reply": "2024-05-14T01:23:54.704256Z"
    },
    "papermill": {
     "duration": 11.559777,
     "end_time": "2024-05-14T01:23:54.708578",
     "exception": false,
     "start_time": "2024-05-14T01:23:43.148801",
     "status": "completed"
    },
    "tags": []
   },
   "outputs": [
    {
     "name": "stderr",
     "output_type": "stream",
     "text": [
      "Computing histograms: 100%|██████████| 800/800 [00:17<00:00, 46.30it/s]\n"
     ]
    }
   ],
   "source": [
    "from pr_feature_extraction import compute_histograms\n",
    "\n",
    "feature_vectors = compute_histograms(kmeans, sift_descriptors_to_train_SVM)"
   ]
  },
  {
   "cell_type": "markdown",
   "id": "21ce1174",
   "metadata": {
    "papermill": {
     "duration": 0.665423,
     "end_time": "2024-05-14T01:23:55.957507",
     "exception": false,
     "start_time": "2024-05-14T01:23:55.292084",
     "status": "completed"
    },
    "tags": []
   },
   "source": [
    "# Model Training"
   ]
  },
  {
   "cell_type": "markdown",
   "id": "7b11822a",
   "metadata": {
    "papermill": {
     "duration": 0.588069,
     "end_time": "2024-05-14T01:23:57.125774",
     "exception": false,
     "start_time": "2024-05-14T01:23:56.537705",
     "status": "completed"
    },
    "tags": []
   },
   "source": [
    "#### Prepare Data for SVM\n",
    "We then scale our feature vectors using the StandardScaler from sklearn. This is a good practice before using SVM."
   ]
  },
  {
   "cell_type": "code",
   "execution_count": 8,
   "id": "de3b64a5",
   "metadata": {
    "execution": {
     "iopub.execute_input": "2024-05-14T01:23:58.279172Z",
     "iopub.status.busy": "2024-05-14T01:23:58.278712Z",
     "iopub.status.idle": "2024-05-14T01:23:58.304337Z",
     "shell.execute_reply": "2024-05-14T01:23:58.303070Z"
    },
    "papermill": {
     "duration": 0.605392,
     "end_time": "2024-05-14T01:23:58.306904",
     "exception": false,
     "start_time": "2024-05-14T01:23:57.701512",
     "status": "completed"
    },
    "tags": []
   },
   "outputs": [],
   "source": [
    "from pr_model_training import prepare_data_for_svm\n",
    "\n",
    "scaled_feature_vectors = prepare_data_for_svm(feature_vectors)"
   ]
  },
  {
   "cell_type": "markdown",
   "id": "b06fe864",
   "metadata": {
    "papermill": {
     "duration": 0.574085,
     "end_time": "2024-05-14T01:23:59.533118",
     "exception": false,
     "start_time": "2024-05-14T01:23:58.959033",
     "status": "completed"
    },
    "tags": []
   },
   "source": [
    "#### Train SVM\n",
    "We then train our SVM classifier using the scaled feature vectors. We're using a Radial Basis Function (RBF) kernel."
   ]
  },
  {
   "cell_type": "code",
   "execution_count": 9,
   "id": "2455b3e8",
   "metadata": {
    "execution": {
     "iopub.execute_input": "2024-05-14T01:24:00.698124Z",
     "iopub.status.busy": "2024-05-14T01:24:00.697675Z",
     "iopub.status.idle": "2024-05-14T01:24:01.094433Z",
     "shell.execute_reply": "2024-05-14T01:24:01.093295Z"
    },
    "papermill": {
     "duration": 0.98321,
     "end_time": "2024-05-14T01:24:01.097195",
     "exception": false,
     "start_time": "2024-05-14T01:24:00.113985",
     "status": "completed"
    },
    "tags": []
   },
   "outputs": [],
   "source": [
    "from pr_model_training import train_svm\n",
    "\n",
    "clf = train_svm(scaled_feature_vectors, y_data)"
   ]
  },
  {
   "cell_type": "markdown",
   "id": "fd95721a",
   "metadata": {
    "papermill": {
     "duration": 0.659012,
     "end_time": "2024-05-14T01:24:02.340424",
     "exception": false,
     "start_time": "2024-05-14T01:24:01.681412",
     "status": "completed"
    },
    "tags": []
   },
   "source": [
    "#### Save SVM Model\n",
    "After training the SVM model, we save it for future use."
   ]
  },
  {
   "cell_type": "code",
   "execution_count": 10,
   "id": "16208aed",
   "metadata": {
    "execution": {
     "iopub.execute_input": "2024-05-14T01:24:03.513743Z",
     "iopub.status.busy": "2024-05-14T01:24:03.512709Z",
     "iopub.status.idle": "2024-05-14T01:24:03.521283Z",
     "shell.execute_reply": "2024-05-14T01:24:03.520284Z"
    },
    "papermill": {
     "duration": 0.596994,
     "end_time": "2024-05-14T01:24:03.523744",
     "exception": false,
     "start_time": "2024-05-14T01:24:02.926750",
     "status": "completed"
    },
    "tags": []
   },
   "outputs": [],
   "source": [
    "from pr_save_load_models import save_SVM_model\n",
    "\n",
    "# Save the SVM model\n",
    "save_SVM_model(clf)"
   ]
  },
  {
   "cell_type": "markdown",
   "id": "e3bba151",
   "metadata": {
    "papermill": {
     "duration": 0.580405,
     "end_time": "2024-05-14T01:24:04.683326",
     "exception": false,
     "start_time": "2024-05-14T01:24:04.102921",
     "status": "completed"
    },
    "tags": []
   },
   "source": [
    "#### Test SVM\n",
    "Finally, we test our trained SVM model on the test data and print the score."
   ]
  },
  {
   "cell_type": "code",
   "execution_count": 13,
   "id": "86bc5019",
   "metadata": {
    "execution": {
     "iopub.execute_input": "2024-05-14T01:24:05.926699Z",
     "iopub.status.busy": "2024-05-14T01:24:05.926228Z",
     "iopub.status.idle": "2024-05-14T01:42:45.959863Z",
     "shell.execute_reply": "2024-05-14T01:42:45.958751Z"
    },
    "papermill": {
     "duration": 1120.620642,
     "end_time": "2024-05-14T01:42:45.962238",
     "exception": false,
     "start_time": "2024-05-14T01:24:05.341596",
     "status": "completed"
    },
    "tags": []
   },
   "outputs": [
    {
     "name": "stderr",
     "output_type": "stream",
     "text": [
      "Processing IBM Plex Sans Arabic:   0%|          | 0/50 [00:00<?, ?it/s]"
     ]
    },
    {
     "name": "stderr",
     "output_type": "stream",
     "text": [
      "Processing IBM Plex Sans Arabic: 100%|██████████| 50/50 [00:26<00:00,  1.87it/s]\n",
      "Processing Lemonada: 100%|██████████| 50/50 [00:30<00:00,  1.66it/s]\n",
      "Processing Marhey: 100%|██████████| 50/50 [00:34<00:00,  1.47it/s]\n",
      "Processing Scheherazade New: 100%|██████████| 50/50 [00:29<00:00,  1.67it/s]\n"
     ]
    },
    {
     "name": "stdout",
     "output_type": "stream",
     "text": [
      "Image preprocessing and saving completed.\n"
     ]
    },
    {
     "name": "stderr",
     "output_type": "stream",
     "text": [
      "Loading fonts: 100%|██████████| 4/4 [00:03<00:00,  1.20it/s]\n",
      "Computing SIFT descriptors: 100%|██████████| 200/200 [01:26<00:00,  2.32it/s]\n",
      "Computing histograms: 100%|██████████| 200/200 [00:05<00:00, 33.81it/s]\n"
     ]
    },
    {
     "name": "stdout",
     "output_type": "stream",
     "text": [
      "Score:  0.975\n"
     ]
    }
   ],
   "source": [
    "import pr_data_preparation\n",
    "\n",
    "from pr_data_preparation import preprocess_and_save_images\n",
    "\n",
    "from pr_model_training import test_svm\n",
    "\n",
    "preprocess_and_save_images(start_index = 750, batch_size = 50)\n",
    "\n",
    "# Load preprocessed images\n",
    "x_test, y_test = load_images(start_index = 750, batch_size = 50)\n",
    "\n",
    "sift_descriptors_Kmeans_test, sift_descriptors_SVM_test = compute_sift_descriptors(x_test)\n",
    "\n",
    "feature_vectors_test = compute_histograms(kmeans, sift_descriptors_SVM_test)\n",
    "\n",
    "# Test the SVM\n",
    "score = test_svm(clf, feature_vectors_test, y_test)\n",
    "\n",
    "print(\"Score: \", score)"
   ]
  },
  {
   "cell_type": "markdown",
   "id": "df27df41",
   "metadata": {
    "papermill": {
     "duration": 0.764655,
     "end_time": "2024-05-14T01:42:47.575605",
     "exception": false,
     "start_time": "2024-05-14T01:42:46.810950",
     "status": "completed"
    },
    "tags": []
   },
   "source": [
    "# Load Model"
   ]
  },
  {
   "cell_type": "markdown",
   "id": "2ea90d22",
   "metadata": {
    "papermill": {
     "duration": 0.854243,
     "end_time": "2024-05-14T01:42:49.193606",
     "exception": false,
     "start_time": "2024-05-14T01:42:48.339363",
     "status": "completed"
    },
    "tags": []
   },
   "source": [
    "#### Load KMeans Model\n",
    "We can load the saved KMeans model when we need it."
   ]
  },
  {
   "cell_type": "code",
   "execution_count": null,
   "id": "70a7eac1",
   "metadata": {
    "execution": {
     "iopub.execute_input": "2024-05-14T01:42:50.737229Z",
     "iopub.status.busy": "2024-05-14T01:42:50.736808Z",
     "iopub.status.idle": "2024-05-14T01:42:50.792661Z",
     "shell.execute_reply": "2024-05-14T01:42:50.791356Z"
    },
    "papermill": {
     "duration": 0.836096,
     "end_time": "2024-05-14T01:42:50.795954",
     "exception": false,
     "start_time": "2024-05-14T01:42:49.959858",
     "status": "completed"
    },
    "tags": []
   },
   "outputs": [],
   "source": [
    "from pr_save_load_models import load_Kmeans_model\n",
    "\n",
    "# Load the KMeans model\n",
    "kmeans = load_Kmeans_model()"
   ]
  },
  {
   "cell_type": "markdown",
   "id": "2b1aac3f",
   "metadata": {
    "papermill": {
     "duration": 0.856507,
     "end_time": "2024-05-14T01:42:52.440858",
     "exception": false,
     "start_time": "2024-05-14T01:42:51.584351",
     "status": "completed"
    },
    "tags": []
   },
   "source": [
    "## Load SVM Model\n",
    "We can load the saved SVM model when we need it."
   ]
  },
  {
   "cell_type": "code",
   "execution_count": null,
   "id": "2d876595",
   "metadata": {
    "execution": {
     "iopub.execute_input": "2024-05-14T01:42:54.016864Z",
     "iopub.status.busy": "2024-05-14T01:42:54.015703Z",
     "iopub.status.idle": "2024-05-14T01:42:54.023811Z",
     "shell.execute_reply": "2024-05-14T01:42:54.022968Z"
    },
    "papermill": {
     "duration": 0.784612,
     "end_time": "2024-05-14T01:42:54.026276",
     "exception": false,
     "start_time": "2024-05-14T01:42:53.241664",
     "status": "completed"
    },
    "tags": []
   },
   "outputs": [],
   "source": [
    "from pr_save_load_models import load_SVM_model\n",
    "\n",
    "# Load the SVM model\n",
    "clf = load_SVM_model()"
   ]
  }
 ],
 "metadata": {
  "kaggle": {
   "accelerator": "none",
   "dataSources": [
    {
     "datasetId": 4667854,
     "sourceId": 7939715,
     "sourceType": "datasetVersion"
    },
    {
     "sourceId": 177497625,
     "sourceType": "kernelVersion"
    },
    {
     "sourceId": 177499204,
     "sourceType": "kernelVersion"
    },
    {
     "sourceId": 177499921,
     "sourceType": "kernelVersion"
    },
    {
     "sourceId": 177503867,
     "sourceType": "kernelVersion"
    }
   ],
   "dockerImageVersionId": 30698,
   "isGpuEnabled": false,
   "isInternetEnabled": false,
   "language": "python",
   "sourceType": "notebook"
  },
  "kernelspec": {
   "display_name": "Python 3",
   "language": "python",
   "name": "python3"
  },
  "language_info": {
   "codemirror_mode": {
    "name": "ipython",
    "version": 3
   },
   "file_extension": ".py",
   "mimetype": "text/x-python",
   "name": "python",
   "nbconvert_exporter": "python",
   "pygments_lexer": "ipython3",
   "version": "3.11.5"
  },
  "papermill": {
   "default_parameters": {},
   "duration": 4610.905475,
   "end_time": "2024-05-14T01:42:58.015137",
   "environment_variables": {},
   "exception": null,
   "input_path": "__notebook__.ipynb",
   "output_path": "__notebook__.ipynb",
   "parameters": {},
   "start_time": "2024-05-14T00:26:07.109662",
   "version": "2.5.0"
  }
 },
 "nbformat": 4,
 "nbformat_minor": 5
}
